{
 "cells": [
  {
   "cell_type": "code",
   "execution_count": 2,
   "metadata": {},
   "outputs": [],
   "source": [
    "import numpy as np\n",
    "import pandas as pd\n",
    "import scipy.stats as stats\n",
    "import matplotlib.pyplot as plt"
   ]
  },
  {
   "cell_type": "code",
   "execution_count": 3,
   "metadata": {},
   "outputs": [],
   "source": [
    "def h0_lasso(Y):\n",
    "    total_length = len(Y)\n",
    "    total_mean = pd.DataFrame(Y).mean()[0]\n",
    "    \n",
    "    Y_event = Y[-1]\n",
    "    \n",
    "    Y_pre = Y[0:(total_length-1)]\n",
    "    sd_pre = pd.DataFrame(Y_pre).std()[0]\n",
    "    Y_pre_mean = pd.DataFrame(Y_pre).mean()[0]\n",
    "    \n",
    "    pen_parameter = (1.65/sd_pre)*((total_length-1)/total_length)**0.5\n",
    "    \n",
    "    if pen_parameter > (Y_event - total_mean):\n",
    "        return [total_mean,0]\n",
    "    \n",
    "    else:\n",
    "        return [ Y_pre_mean - (pen_parameter/(total_length-1) ) , Y_event - Y_pre_mean - pen_parameter*( (total_length-2)/(total_length-1)) ]"
   ]
  },
  {
   "cell_type": "code",
   "execution_count": 4,
   "metadata": {},
   "outputs": [],
   "source": [
    "def mean_nonzero_payment(effect_size, sample_size, std, number_sims):\n",
    "    outcome_df = pd.DataFrame(columns = ['lasso_payment'])\n",
    "    \n",
    "    for r in range(0,number_sims):\n",
    "        Y = list(np.random.normal(0,std**2,sample_size))\n",
    "        Y_pre_mean = pd.DataFrame(Y).mean()[0]\n",
    "    \n",
    "        Y.append(np.random.normal(effect_size, std**2, 1)[0])\n",
    "        outcome_df.loc[r] = [h0_lasso(Y)[1] ]\n",
    "    \n",
    "    non_zero_payments = outcome_df.query('lasso_payment >0')['lasso_payment'].mean()\n",
    "    return non_zero_payments"
   ]
  },
  {
   "cell_type": "code",
   "execution_count": 5,
   "metadata": {},
   "outputs": [],
   "source": [
    "def mean_nonzero_payment_ttest(effect_size, sample_size, std, number_sims):\n",
    "    outcome_df = pd.DataFrame(columns = ['ttest_payment'])\n",
    "    \n",
    "    for r in range(0,number_sims):\n",
    "        Y = list(np.random.normal(0,std**2,sample_size))\n",
    "        Y_pre_mean = pd.DataFrame(Y).mean()[0]\n",
    "        Y_pre_sd = pd.DataFrame(Y).std()[0]\n",
    "    \n",
    "        Y.append(np.random.normal(effect_size, std**2, 1)[0])\n",
    "        Y_event = Y[-1]\n",
    "        \n",
    "        outcome_df.loc[r] = 0.0\n",
    "        dif = Y_event - Y_pre_mean\n",
    "        threshold = 1.65*(len(Y))**(.5)/Y_pre_sd\n",
    "    \n",
    "        if (dif > threshold):\n",
    "            outcome_df.loc[r] = [dif]\n",
    "    \n",
    "    non_zero_payments = outcome_df.query('ttest_payment >0')['ttest_payment'].mean()\n",
    "    return non_zero_payments"
   ]
  },
  {
   "cell_type": "markdown",
   "metadata": {},
   "source": [
    "# Simulations for H_0: Effect = 0 with (n=9 and sigma^2 = 1)"
   ]
  },
  {
   "cell_type": "code",
   "execution_count": 6,
   "metadata": {},
   "outputs": [],
   "source": [
    "total_sims = 1000\n",
    "effect_size = 0\n",
    "sigma = 1\n",
    "sample_size = 9\n",
    "\n",
    "outcome_df = pd.DataFrame(columns = ['pre_event_mean','event','lasso_payment'])\n",
    "\n",
    "for r in range(0,total_sims):\n",
    "    Y = list(np.random.normal(0,sigma**2,sample_size))\n",
    "    Y_pre_mean = pd.DataFrame(Y).mean()[0]\n",
    "    \n",
    "    Y.append(np.random.normal(effect_size, sigma**2, 1)[0])\n",
    "    \n",
    "    \n",
    "    outcome_df.loc[r] = [Y_pre_mean,Y[sample_size],h0_lasso(Y)[1]]"
   ]
  },
  {
   "cell_type": "code",
   "execution_count": 7,
   "metadata": {},
   "outputs": [
    {
     "name": "stdout",
     "output_type": "stream",
     "text": [
      "The percentage of simulations that pay exactly 0 is  0.95\n"
     ]
    }
   ],
   "source": [
    "print('The percentage of simulations that pay exactly 0 is ',  sum(1*(outcome_df['lasso_payment']==0))/total_sims)"
   ]
  },
  {
   "cell_type": "code",
   "execution_count": 8,
   "metadata": {},
   "outputs": [
    {
     "name": "stdout",
     "output_type": "stream",
     "text": [
      "Of non-zero payments, the mean is  0.8658858312233142\n"
     ]
    }
   ],
   "source": [
    "print('Of non-zero payments, the mean is ', outcome_df.query('lasso_payment >0')['lasso_payment'].mean() )"
   ]
  },
  {
   "cell_type": "markdown",
   "metadata": {},
   "source": [
    "# Simulations for H_0: Effect = 1 with (n=9 and sigma^2 = 1)"
   ]
  },
  {
   "cell_type": "code",
   "execution_count": 9,
   "metadata": {},
   "outputs": [],
   "source": [
    "total_sims = 1000\n",
    "effect_size = 1\n",
    "sigma = 1\n",
    "sample_size = 9\n",
    "\n",
    "outcome_df = pd.DataFrame(columns = ['pre_event_mean','event','lasso_payment'])\n",
    "\n",
    "for r in range(0,total_sims):\n",
    "    Y = list(np.random.normal(0,sigma**2,sample_size))\n",
    "    Y_pre_mean = pd.DataFrame(Y).mean()[0]\n",
    "    \n",
    "    Y.append(np.random.normal(effect_size, sigma**2, 1)[0])\n",
    "    \n",
    "    \n",
    "    outcome_df.loc[r] = [Y_pre_mean,Y[sample_size],h0_lasso(Y)[1]]"
   ]
  },
  {
   "cell_type": "code",
   "execution_count": 10,
   "metadata": {},
   "outputs": [
    {
     "name": "stdout",
     "output_type": "stream",
     "text": [
      "The percentage of simulations that pay exactly 0 is  0.799\n"
     ]
    }
   ],
   "source": [
    "print('The percentage of simulations that pay exactly 0 is ',  sum(1*(outcome_df['lasso_payment']==0))/total_sims)"
   ]
  },
  {
   "cell_type": "code",
   "execution_count": 11,
   "metadata": {},
   "outputs": [
    {
     "name": "stdout",
     "output_type": "stream",
     "text": [
      "Of non-zero payments, the mean is  0.956653963596994\n"
     ]
    }
   ],
   "source": [
    "print('Of non-zero payments, the mean is ', outcome_df.query('lasso_payment >0')['lasso_payment'].mean() )"
   ]
  },
  {
   "cell_type": "markdown",
   "metadata": {},
   "source": [
    "# Graph of (Effect Size, Mean Non-zero Payment) when n=19 and sigma =1"
   ]
  },
  {
   "cell_type": "code",
   "execution_count": null,
   "metadata": {},
   "outputs": [],
   "source": [
    "sim_df = pd.DataFrame(columns = ['effect_size','payment'])\n",
    "\n",
    "sim_df['effect_size'] = np.linspace(0,5,25)\n",
    "sim_df['h0_payment'] = sim_df['effect_size'].apply(lambda s: mean_nonzero_payment(s, 19, 1, 200))\n",
    "sim_df['ttest_payment'] = sim_df['effect_size'].apply(lambda s: mean_nonzero_payment_ttest(s, 19, 1, 200))"
   ]
  },
  {
   "cell_type": "code",
   "execution_count": null,
   "metadata": {},
   "outputs": [],
   "source": [
    "fig, ax = plt.subplots(figsize = (12,8))\n",
    "\n",
    "\n",
    "sim_df.plot.scatter(x='effect_size', y='h0_payment', ax = ax, color = 'red', label ='h0')\n",
    "sim_df.plot.scatter(x='effect_size', y='ttest_payment', ax = ax, color = 'blue', label = 't-test')\n",
    "sim_df.plot.scatter(x='effect_size', y='effect_size', ax = ax, color = 'black', label = 'true effect')\n"
   ]
  },
  {
   "cell_type": "code",
   "execution_count": null,
   "metadata": {},
   "outputs": [],
   "source": [
    "# sim_df = pd.DataFrame(columns = ['effect_size','payment'])\n",
    "\n",
    "# sim_df['effect_size'] = np.linspace(0,10,100)\n",
    "# sim_df['payment'] = sim_df['effect_size'].apply(lambda s: mean_nonzero_payment(s, 19, 1, 100))\n",
    "\n",
    "# sim_df.plot.scatter(x='effect_size', y='payment')"
   ]
  }
 ],
 "metadata": {
  "kernelspec": {
   "display_name": "Python 3",
   "language": "python",
   "name": "python3"
  },
  "language_info": {
   "codemirror_mode": {
    "name": "ipython",
    "version": 3
   },
   "file_extension": ".py",
   "mimetype": "text/x-python",
   "name": "python",
   "nbconvert_exporter": "python",
   "pygments_lexer": "ipython3",
   "version": "3.8.3"
  }
 },
 "nbformat": 4,
 "nbformat_minor": 4
}
