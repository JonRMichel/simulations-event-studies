{
 "cells": [
  {
   "cell_type": "code",
   "execution_count": 1,
   "metadata": {},
   "outputs": [],
   "source": [
    "import numpy as np\n",
    "import pandas as pd\n",
    "import matplotlib.pyplot as plt"
   ]
  },
  {
   "cell_type": "markdown",
   "metadata": {},
   "source": [
    "# Functions for the bias correction bootstrap"
   ]
  },
  {
   "cell_type": "code",
   "execution_count": 2,
   "metadata": {},
   "outputs": [],
   "source": [
    "def find_nearest(array, value):\n",
    "    array = np.asarray(array)\n",
    "    idx = (np.abs(array - value)).argmin()\n",
    "    return array[idx]"
   ]
  },
  {
   "cell_type": "code",
   "execution_count": 3,
   "metadata": {},
   "outputs": [],
   "source": [
    "#input event studies data and possible effect size, outputs 1 estimate\n",
    "def h0_outcome(Y,effect):\n",
    "    sample_size = len(Y)\n",
    "    boot = np.random.choice(Y[:-1],sample_size)\n",
    "    boot[-1] = boot[-1]+effect\n",
    "    \n",
    "    pre_mean = boot[:-1].mean()\n",
    "    pre_sd = boot[:-1].std()\n",
    "    est_effect = boot[-1]-pre_mean\n",
    "    \n",
    "    if est_effect < 1.65*pre_sd/np.sqrt(sample_size):\n",
    "        return 0.0\n",
    "    else:\n",
    "        return est_effect\n",
    "\n",
    "#input event studies data and possible effect size, outputs no_sims estimates\n",
    "def h0_bias(Y,effect,no_sims):\n",
    "    sim_df = pd.DataFrame(columns =['sim','est_effect'])\n",
    "    sim_df['sim'] = range(1,no_sims)\n",
    "    sim_df['est_effect'] = sim_df['sim'].apply(lambda s: h0_outcome(Y,effect) )\n",
    "    \n",
    "    rejected_mean = sim_df[['est_effect']].query('est_effect !=0').mean()[0]\n",
    "    return rejected_mean\n",
    "\n",
    "#input event studies data and range of possible effect sizes [lower, upper], outputs no_sims estimates \n",
    "def h0_bias_range(Y,no_sims, lower,upper):\n",
    "    bias_df = pd.DataFrame(columns = ['effect','biased_effect'])\n",
    "    bias_df['effect'] = np.linspace(lower,upper,25)\n",
    "    bias_df['biased_effect'] = bias_df['effect'].apply(lambda s: h0_bias(Y,s,no_sims))\n",
    "    \n",
    "    return bias_df\n",
    "\n",
    "#estimates the bias correction\n",
    "# def true_effect_est(Y,lower,upper,no_sims):\n",
    "#     est_effect = Y[-1]-Y[:-1].mean()\n",
    "    \n",
    "#     bias_df = h0_bias_range(Y,no_sims,lower,upper)\n",
    "    \n",
    "#     closest_est = find_nearest( bias_df['biased_effect'], est_effect)\n",
    "#     de_biased_est = bias_df[ bias_df['biased_effect'] == closest_est]['effect'].values[0]\n",
    "#     return de_biased_est"
   ]
  },
  {
   "cell_type": "code",
   "execution_count": 4,
   "metadata": {},
   "outputs": [],
   "source": [
    "def h0_reject(Y):\n",
    "    sample_size = len(Y)\n",
    "    pre_mean = np.array(Y[0:-1]).mean()\n",
    "    pre_sd = np.array(Y[0:-1]).std()\n",
    "    \n",
    "    delta = Y[-1] - pre_mean\n",
    "    reject_threshold = 1.65*pre_sd * np.sqrt( (sample_size-1)/sample_size) \n",
    "    \n",
    "    if delta > reject_threshold:\n",
    "        return 'reject'\n",
    "    else:\n",
    "        return 'no_reject'"
   ]
  },
  {
   "cell_type": "code",
   "execution_count": 5,
   "metadata": {},
   "outputs": [],
   "source": [
    "def biased_effect_est(Y, possible_effects, no_sims):\n",
    "    sample_size = len(Y)\n",
    "    sim_df = pd.DataFrame(columns = ['possible_effect','reject_count','reject_sum','average_rejected'])\n",
    "    sim_df['possible_effect'] = possible_effects\n",
    "    \n",
    "    sim_df = sim_df.set_index('possible_effect')\n",
    "    sim_df['reject_count'] = 0\n",
    "    sim_df['reject_sum'] = 0\n",
    "    \n",
    "    for r in range(0,no_sims):\n",
    "        boot = np.random.choice(Y[:-1],sample_size)\n",
    "        pre_mean = boot[:-1].mean()\n",
    "        pre_sd = boot[:-1].std()\n",
    "        \n",
    "        delta = boot[-1]-pre_mean\n",
    "        reject_threshold = 1.65*pre_sd * np.sqrt( (sample_size-1)/sample_size) \n",
    "        \n",
    "        for effect in possible_effects:\n",
    "            if (delta + effect) > reject_threshold:\n",
    "                sim_df.loc[effect,'reject_count'] = sim_df.loc[effect,'reject_count']+1\n",
    "                sim_df.loc[effect,'reject_sum'] = sim_df.loc[effect,'reject_sum'] + (delta+effect)\n",
    "    \n",
    "    sim_df['average_rejected'] = sim_df['reject_sum']/sim_df['reject_count']\n",
    "    \n",
    "    return sim_df\n",
    "\n",
    "def true_effect_est(Y,possible_effects,no_sims):\n",
    "    est_effect = Y[-1]-Y[:-1].mean()\n",
    "    \n",
    "    bias_df = biased_effect_est(Y,possible_effects,no_sims).reset_index()\n",
    "    \n",
    "    closest_est = find_nearest( bias_df['average_rejected'], est_effect)\n",
    "    de_biased_est = bias_df[ bias_df['average_rejected'] == closest_est]['possible_effect'].values[0]\n",
    "    return de_biased_est"
   ]
  },
  {
   "cell_type": "markdown",
   "metadata": {},
   "source": [
    "# Demonstration on a single data set (true effect 3, s.d. =1, n=9)"
   ]
  },
  {
   "cell_type": "markdown",
   "metadata": {},
   "source": [
    "## Sample Data"
   ]
  },
  {
   "cell_type": "code",
   "execution_count": 6,
   "metadata": {},
   "outputs": [
    {
     "name": "stdout",
     "output_type": "stream",
     "text": [
      "Statistical inference on H0 is  reject\n"
     ]
    },
    {
     "data": {
      "image/png": "[encoded data removed]",
      "text/plain": [
       "<Figure size 432x288 with 1 Axes>"
      ]
     },
     "metadata": {
      "needs_background": "light"
     },
     "output_type": "display_data"
    }
   ],
   "source": [
    "true_effect = 3\n",
    "\n",
    "Y = np.random.normal(0,1,9)\n",
    "Y = np.append(Y, np.random.normal(true_effect,1,1)[0])\n",
    "print('Statistical inference on H0 is ', h0_reject(Y))\n",
    "\n",
    "pd.DataFrame({'Y':Y}).plot()\n",
    "plt.show()"
   ]
  },
  {
   "cell_type": "markdown",
   "metadata": {},
   "source": [
    "### Plot of (Possible True Effect, Average Est. Effect of Rejected Samples)"
   ]
  },
  {
   "cell_type": "code",
   "execution_count": 7,
   "metadata": {},
   "outputs": [
    {
     "data": {
      "image/png": "[encoded data removed]",
      "text/plain": [
       "<Figure size 432x288 with 1 Axes>"
      ]
     },
     "metadata": {
      "needs_background": "light"
     },
     "output_type": "display_data"
    }
   ],
   "source": [
    "sample_bias_df = biased_effect_est(Y, np.linspace(0,5,50), 100).reset_index()\n",
    "\n",
    "sample_bias_df.plot(x='possible_effect',y='average_rejected')\n",
    "plt.show()"
   ]
  },
  {
   "cell_type": "markdown",
   "metadata": {},
   "source": [
    "#### Implied Bias Correction based on above chart"
   ]
  },
  {
   "cell_type": "code",
   "execution_count": 8,
   "metadata": {},
   "outputs": [
    {
     "name": "stdout",
     "output_type": "stream",
     "text": [
      "The naive estimate of effect size here is  4.87261025421519\n",
      "\n",
      "The bias-corrected estimate is  4.8979591836734695\n"
     ]
    }
   ],
   "source": [
    "est_effect = Y[-1]-np.array(Y[0:-1]).mean()\n",
    "\n",
    "print('The naive estimate of effect size here is ',est_effect)\n",
    "print('')\n",
    "print( 'The bias-corrected estimate is ' ,true_effect_est(Y, np.linspace(0,5,50), 200) )"
   ]
  },
  {
   "cell_type": "markdown",
   "metadata": {},
   "source": [
    "## Simulations for many samples (true effect = 2, s.d. =1, n=9)"
   ]
  },
  {
   "cell_type": "code",
   "execution_count": 26,
   "metadata": {},
   "outputs": [],
   "source": [
    "true_effect = 2.0\n",
    "sim_two_df = pd.DataFrame(columns = ['est_effect','bias_corrected'])\n",
    "\n",
    "for r in range(1, 50):\n",
    "    Y = np.random.normal(0,1,9)\n",
    "    Y = np.append(Y, np.random.normal(true_effect,1,1)[0])\n",
    "    \n",
    "    if h0_reject(Y) == 'reject':\n",
    "        est_effect = Y[-1]-np.array(Y[0:-1]).mean()\n",
    "        bias_correct_est = true_effect_est(Y, np.linspace(1,5,40), 50)\n",
    "        \n",
    "        sim_two_df.loc[r] = [est_effect, bias_correct_est]"
   ]
  },
  {
   "cell_type": "code",
   "execution_count": 27,
   "metadata": {},
   "outputs": [
    {
     "name": "stdout",
     "output_type": "stream",
     "text": [
      "The average naive estimate for effect size was  2.4663340938780514\n",
      "\n",
      "The average biased-corrected estimate was  2.0256410256410247\n"
     ]
    }
   ],
   "source": [
    "print('The average naive estimate for effect size was ',sim_two_df['est_effect'].mean())\n",
    "print('')\n",
    "print('The average biased-corrected estimate was ', sim_two_df['bias_corrected'].mean() )"
   ]
  },
  {
   "cell_type": "code",
   "execution_count": 28,
   "metadata": {},
   "outputs": [
    {
     "data": {
      "image/png": "[encoded data removed]",
      "text/plain": [
       "<Figure size 432x288 with 1 Axes>"
      ]
     },
     "metadata": {
      "needs_background": "light"
     },
     "output_type": "display_data"
    }
   ],
   "source": [
    "fig, ax = plt.subplots()\n",
    "\n",
    "naive_est = sim_two_df['est_effect']\n",
    "bias_correct_est = sim_two_df['bias_corrected']\n",
    "\n",
    "bins = np.linspace(0,5,10)\n",
    "\n",
    "plt.hist(naive_est , alpha=0.5, color = 'black', label = 'naive_est')\n",
    "plt.hist(bias_correct_est,bins, alpha=0.5, color = 'yellow', label = 'bias_corrected')\n",
    "\n",
    "plt.legend(loc='upper right')\n",
    "plt.show()"
   ]
  }
 ],
 "metadata": {
  "kernelspec": {
   "display_name": "Python 3",
   "language": "python",
   "name": "python3"
  },
  "language_info": {
   "codemirror_mode": {
    "name": "ipython",
    "version": 3
   },
   "file_extension": ".py",
   "mimetype": "text/x-python",
   "name": "python",
   "nbconvert_exporter": "python",
   "pygments_lexer": "ipython3",
   "version": "3.8.3"
  }
 },
 "nbformat": 4,
 "nbformat_minor": 4
}
