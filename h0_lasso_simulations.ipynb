{
 "cells": [
  {
   "cell_type": "code",
   "execution_count": 13,
   "metadata": {},
   "outputs": [],
   "source": [
    "import numpy as np\n",
    "import pandas as pd\n",
    "import scipy.stats as stats\n",
    "import matplotlib.pyplot as plt"
   ]
  },
  {
   "cell_type": "code",
   "execution_count": 14,
   "metadata": {},
   "outputs": [],
   "source": [
    "def h0_lasso(Y):\n",
    "    total_length = len(Y)\n",
    "    total_mean = pd.DataFrame(Y).mean()[0]\n",
    "    \n",
    "    Y_event = Y[-1]\n",
    "    \n",
    "    Y_pre = Y[0:(total_length-1)]\n",
    "    sd_pre = pd.DataFrame(Y_pre).std()[0]\n",
    "    Y_pre_mean = pd.DataFrame(Y_pre).mean()[0]\n",
    "    \n",
    "    pen_parameter = (1.65/sd_pre)*((total_length-1)/total_length)**0.5\n",
    "    \n",
    "    if pen_parameter > (Y_event - total_mean):\n",
    "        return [total_mean,0]\n",
    "    \n",
    "    else:\n",
    "        return [ Y_pre_mean - (pen_parameter/(total_length-1) ) , Y_event - Y_pre_mean - pen_parameter*( (total_length-2)/(total_length-1)) ]"
   ]
  },
  {
   "cell_type": "code",
   "execution_count": 34,
   "metadata": {},
   "outputs": [],
   "source": [
    "def mean_nonzero_payment(effect_size, sample_size, std, number_sims):\n",
    "    outcome_df = pd.DataFrame(columns = ['lasso_payment'])\n",
    "    \n",
    "    for r in range(0,number_sims):\n",
    "        Y = list(np.random.normal(0,sigma**2,sample_size))\n",
    "        Y_pre_mean = pd.DataFrame(Y).mean()[0]\n",
    "    \n",
    "        Y.append(np.random.normal(effect_size, sigma**2, 1)[0])\n",
    "    \n",
    "    \n",
    "    outcome_df.loc[r] = [h0_lasso(Y)[1] ]\n",
    "    non_zero_payments = outcome_df.query('lasso_payment >0')['lasso_payment'].mean()\n",
    "    return non_zero_payments"
   ]
  },
  {
   "cell_type": "markdown",
   "metadata": {},
   "source": [
    "# Simulations for H_0: Effect = 0 with (n=9 and sigma^2 = 1)"
   ]
  },
  {
   "cell_type": "code",
   "execution_count": 15,
   "metadata": {},
   "outputs": [],
   "source": [
    "total_sims = 1000\n",
    "effect_size = 0\n",
    "sigma = 1\n",
    "sample_size = 9\n",
    "\n",
    "outcome_df = pd.DataFrame(columns = ['pre_event_mean','event','lasso_payment'])\n",
    "\n",
    "for r in range(0,total_sims):\n",
    "    Y = list(np.random.normal(0,sigma**2,sample_size))\n",
    "    Y_pre_mean = pd.DataFrame(Y).mean()[0]\n",
    "    \n",
    "    Y.append(np.random.normal(effect_size, sigma**2, 1)[0])\n",
    "    \n",
    "    \n",
    "    outcome_df.loc[r] = [Y_pre_mean,Y[sample_size],h0_lasso(Y)[1]]"
   ]
  },
  {
   "cell_type": "code",
   "execution_count": 16,
   "metadata": {},
   "outputs": [
    {
     "name": "stdout",
     "output_type": "stream",
     "text": [
      "The percentage of simulations that pay exactly 0 is  0.952\n"
     ]
    }
   ],
   "source": [
    "print('The percentage of simulations that pay exactly 0 is ',  sum(1*(outcome_df['lasso_payment']==0))/total_sims)"
   ]
  },
  {
   "cell_type": "code",
   "execution_count": 17,
   "metadata": {},
   "outputs": [
    {
     "name": "stdout",
     "output_type": "stream",
     "text": [
      "Of non-zero payments, the mean is  0.8453340322941205\n"
     ]
    }
   ],
   "source": [
    "print('Of non-zero payments, the mean is ', outcome_df.query('lasso_payment >0')['lasso_payment'].mean() )"
   ]
  },
  {
   "cell_type": "markdown",
   "metadata": {},
   "source": [
    "# Simulations for H_0: Effect = 1 with (n=9 and sigma^2 = 1)"
   ]
  },
  {
   "cell_type": "code",
   "execution_count": 27,
   "metadata": {},
   "outputs": [],
   "source": [
    "total_sims = 1000\n",
    "effect_size = 1\n",
    "sigma = 1\n",
    "sample_size = 9\n",
    "\n",
    "outcome_df = pd.DataFrame(columns = ['pre_event_mean','event','lasso_payment'])\n",
    "\n",
    "for r in range(0,total_sims):\n",
    "    Y = list(np.random.normal(0,sigma**2,sample_size))\n",
    "    Y_pre_mean = pd.DataFrame(Y).mean()[0]\n",
    "    \n",
    "    Y.append(np.random.normal(effect_size, sigma**2, 1)[0])\n",
    "    \n",
    "    \n",
    "    outcome_df.loc[r] = [Y_pre_mean,Y[sample_size],h0_lasso(Y)[1]]"
   ]
  },
  {
   "cell_type": "code",
   "execution_count": 28,
   "metadata": {},
   "outputs": [
    {
     "name": "stdout",
     "output_type": "stream",
     "text": [
      "The percentage of simulations that pay exactly 0 is  0.0\n"
     ]
    }
   ],
   "source": [
    "print('The percentage of simulations that pay exactly 0 is ',  sum(1*(outcome_df['lasso_payment']==0))/total_sims)"
   ]
  },
  {
   "cell_type": "code",
   "execution_count": 29,
   "metadata": {},
   "outputs": [
    {
     "name": "stdout",
     "output_type": "stream",
     "text": [
      "Of non-zero payments, the mean is  98.45440994263173\n"
     ]
    }
   ],
   "source": [
    "print('Of non-zero payments, the mean is ', outcome_df.query('lasso_payment >0')['lasso_payment'].mean() )"
   ]
  },
  {
   "cell_type": "markdown",
   "metadata": {},
   "source": [
    "# Graph of (Effect Size, Mean Non-zero Payment) when n=19 and sigma =1"
   ]
  },
  {
   "cell_type": "code",
   "execution_count": 40,
   "metadata": {},
   "outputs": [
    {
     "data": {
      "text/plain": [
       "<matplotlib.axes._subplots.AxesSubplot at 0x1531130>"
      ]
     },
     "execution_count": 40,
     "metadata": {},
     "output_type": "execute_result"
    },
    {
     "data": {
      "image/png": "[encoded data removed]",
      "text/plain": [
       "<Figure size 432x288 with 1 Axes>"
      ]
     },
     "metadata": {
      "needs_background": "light"
     },
     "output_type": "display_data"
    }
   ],
   "source": [
    "sim_df = pd.DataFrame(columns = ['effect_size','payment'])\n",
    "\n",
    "sim_df['effect_size'] = np.linspace(0,50,100)\n",
    "sim_df['payment'] = sim_df['effect_size'].apply(lambda s: mean_nonzero_payment(s, 19, 1, 100))\n",
    "\n",
    "sim_df.plot.scatter(x='effect_size', y='payment')"
   ]
  },
  {
   "cell_type": "code",
   "execution_count": null,
   "metadata": {},
   "outputs": [],
   "source": []
  }
 ],
 "metadata": {
  "kernelspec": {
   "display_name": "Python 3",
   "language": "python",
   "name": "python3"
  },
  "language_info": {
   "codemirror_mode": {
    "name": "ipython",
    "version": 3
   },
   "file_extension": ".py",
   "mimetype": "text/x-python",
   "name": "python",
   "nbconvert_exporter": "python",
   "pygments_lexer": "ipython3",
   "version": "3.8.3"
  }
 },
 "nbformat": 4,
 "nbformat_minor": 4
}
