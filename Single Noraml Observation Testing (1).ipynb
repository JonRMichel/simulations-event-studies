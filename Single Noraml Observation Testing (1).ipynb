{
 "cells": [
  {
   "cell_type": "code",
   "execution_count": 2,
   "metadata": {},
   "outputs": [],
   "source": [
    "import numpy as np\n",
    "import pandas as pd\n",
    "import scipy.stats as stats\n",
    "import matplotlib.pyplot as plt"
   ]
  },
  {
   "cell_type": "markdown",
   "metadata": {},
   "source": [
    "# Simulations when H_0: Effect = 0 is true."
   ]
  },
  {
   "cell_type": "code",
   "execution_count": 4,
   "metadata": {},
   "outputs": [],
   "source": [
    "total_sims = 1000\n",
    "outcome_df = pd.DataFrame(columns = ['Payment_needed','Payment_amount', 'Obs'])\n",
    "\n",
    "for r in range(0, total_sims):\n",
    "    obs = np.random.normal(0,1,1)[0]\n",
    "    \n",
    "    if(obs > 1.65):\n",
    "        outcome_df.loc[r] = ['yes',obs,obs]\n",
    "        \n",
    "    else:\n",
    "        outcome_df.loc[r] = ['no',0.0,obs]"
   ]
  },
  {
   "cell_type": "code",
   "execution_count": 5,
   "metadata": {},
   "outputs": [
    {
     "name": "stdout",
     "output_type": "stream",
     "text": [
      "AxesSubplot(0.125,0.125;0.775x0.755)\n"
     ]
    },
    {
     "data": {
      "image/png": "[encoded data removed]",
      "text/plain": [
       "<Figure size 432x288 with 1 Axes>"
      ]
     },
     "metadata": {
      "needs_background": "light"
     },
     "output_type": "display_data"
    }
   ],
   "source": [
    "yes_index = outcome_df['Payment_needed'] == \"yes\"\n",
    "\n",
    "print(outcome_df[yes_index][['Payment_amount']].plot.hist())"
   ]
  },
  {
   "cell_type": "code",
   "execution_count": 6,
   "metadata": {},
   "outputs": [
    {
     "name": "stdout",
     "output_type": "stream",
     "text": [
      "The mean of payed samples is  2.079790612526675\n"
     ]
    }
   ],
   "source": [
    "print('The mean of payed samples is ' , outcome_df[yes_index]['Payment_amount'].mean() )"
   ]
  },
  {
   "cell_type": "code",
   "execution_count": 7,
   "metadata": {},
   "outputs": [
    {
     "name": "stdout",
     "output_type": "stream",
     "text": [
      "The percentage of samples that payed was  0.047\n"
     ]
    }
   ],
   "source": [
    "print('The percentage of samples that payed was ', sum(1*yes_index)/total_sims)"
   ]
  },
  {
   "cell_type": "code",
   "execution_count": 23,
   "metadata": {},
   "outputs": [
    {
     "data": {
      "image/png": "[encoded data removed]",
      "text/plain": [
       "<Figure size 432x288 with 1 Axes>"
      ]
     },
     "metadata": {
      "needs_background": "light"
     },
     "output_type": "display_data"
    }
   ],
   "source": [
    "fig, ax = plt.subplots()\n",
    "\n",
    "rejected = outcome_df[yes_index]['Obs']\n",
    "not_rejected = outcome_df[-yes_index]['Obs']\n",
    "\n",
    "bins = np.linspace(-3,3,50)\n",
    "\n",
    "plt.hist(rejected,bins, alpha=0.5, label = 'rejected')\n",
    "plt.hist(not_rejected,bins, alpha=0.5, label = 'not_rejected')\n",
    "\n",
    "\n",
    "plt.legend(loc='upper right')\n",
    "plt.show()"
   ]
  },
  {
   "cell_type": "markdown",
   "metadata": {},
   "source": [
    "# Simulations when H_A: Effect is 1.0 is true."
   ]
  },
  {
   "cell_type": "code",
   "execution_count": 25,
   "metadata": {},
   "outputs": [],
   "source": [
    "total_sims = 1000\n",
    "outcome_df = pd.DataFrame(columns = ['Payment_needed','Payment_amount', 'Obs'])\n",
    "\n",
    "for r in range(0, total_sims):\n",
    "    obs = np.random.normal(1.0,1,1)[0]\n",
    "    \n",
    "    if(obs > 1.65):\n",
    "        outcome_df.loc[r] = ['yes',obs,obs]\n",
    "        \n",
    "    else:\n",
    "        outcome_df.loc[r] = ['no',0.0,obs]"
   ]
  },
  {
   "cell_type": "code",
   "execution_count": 26,
   "metadata": {},
   "outputs": [
    {
     "name": "stdout",
     "output_type": "stream",
     "text": [
      "AxesSubplot(0.125,0.125;0.775x0.755)\n"
     ]
    },
    {
     "data": {
      "image/png": "[encoded data removed]",
      "text/plain": [
       "<Figure size 432x288 with 1 Axes>"
      ]
     },
     "metadata": {
      "needs_background": "light"
     },
     "output_type": "display_data"
    }
   ],
   "source": [
    "yes_index = outcome_df['Payment_needed'] == \"yes\"\n",
    "\n",
    "print(outcome_df[yes_index][['Payment_amount']].plot.hist())"
   ]
  },
  {
   "cell_type": "code",
   "execution_count": 27,
   "metadata": {},
   "outputs": [
    {
     "name": "stdout",
     "output_type": "stream",
     "text": [
      "The mean of payed samples is  2.2351035858034107\n"
     ]
    }
   ],
   "source": [
    "print('The mean of payed samples is ' , outcome_df[yes_index]['Payment_amount'].mean() )"
   ]
  },
  {
   "cell_type": "code",
   "execution_count": 28,
   "metadata": {},
   "outputs": [
    {
     "name": "stdout",
     "output_type": "stream",
     "text": [
      "The percentage of samples that payed was  0.255\n"
     ]
    }
   ],
   "source": [
    "print('The percentage of samples that payed was ', sum(1*yes_index)/total_sims)"
   ]
  },
  {
   "cell_type": "code",
   "execution_count": 29,
   "metadata": {},
   "outputs": [
    {
     "data": {
      "image/png": "[encoded data removed]",
      "text/plain": [
       "<Figure size 432x288 with 1 Axes>"
      ]
     },
     "metadata": {
      "needs_background": "light"
     },
     "output_type": "display_data"
    }
   ],
   "source": [
    "fig, ax = plt.subplots()\n",
    "\n",
    "rejected = outcome_df[yes_index]['Obs']\n",
    "not_rejected = outcome_df[-yes_index]['Obs']\n",
    "\n",
    "bins = np.linspace(-3,3,50)\n",
    "\n",
    "plt.hist(rejected,bins, alpha=0.5, label = 'rejected')\n",
    "plt.hist(not_rejected,bins, alpha=0.5, label = 'not_rejected')\n",
    "\n",
    "\n",
    "plt.legend(loc='upper right')\n",
    "plt.show()"
   ]
  },
  {
   "cell_type": "code",
   "execution_count": null,
   "metadata": {},
   "outputs": [],
   "source": []
  }
 ],
 "metadata": {
  "kernelspec": {
   "display_name": "Python 3",
   "language": "python",
   "name": "python3"
  },
  "language_info": {
   "codemirror_mode": {
    "name": "ipython",
    "version": 3
   },
   "file_extension": ".py",
   "mimetype": "text/x-python",
   "name": "python",
   "nbconvert_exporter": "python",
   "pygments_lexer": "ipython3",
   "version": "3.8.3"
  }
 },
 "nbformat": 4,
 "nbformat_minor": 4
}
