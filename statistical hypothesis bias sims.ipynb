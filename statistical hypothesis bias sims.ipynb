{
 "cells": [
  {
   "cell_type": "code",
   "execution_count": 1,
   "metadata": {},
   "outputs": [],
   "source": [
    "import numpy as np\n",
    "import pandas as pd\n",
    "import matplotlib.pyplot as plt"
   ]
  },
  {
   "cell_type": "code",
   "execution_count": 51,
   "metadata": {},
   "outputs": [],
   "source": [
    "def generate_hypo_tests(sample_size, true_mean, true_effect, sim_count):\n",
    "    sim_df = pd.DataFrame(columns = ['rejected','est_effect'])\n",
    "    for r in range(0,sim_count):\n",
    "        values = np.random.normal(true_mean,1 ,sample_size)\n",
    "        values[-1] = values[-1] + true_effect\n",
    "        \n",
    "        r_bar = np.mean(values[0:-1] )\n",
    "        sd = np.std(values[0:-1])\n",
    "        effect_est = values[-1] - r_bar\n",
    "\n",
    "        test_stat = np.sqrt((sample_size-1)/sample_size)*effect_est/sd\n",
    "        rejected = 1*(test_stat > 1.65)\n",
    "        sim_df.loc[r] = [rejected, effect_est]\n",
    "    return sim_df"
   ]
  },
  {
   "cell_type": "markdown",
   "metadata": {},
   "source": [
    "# Large number of simulations to illustrate bias"
   ]
  },
  {
   "cell_type": "code",
   "execution_count": 52,
   "metadata": {},
   "outputs": [
    {
     "name": "stdout",
     "output_type": "stream",
     "text": [
      "0.0722\n",
      "1.863005401907122\n"
     ]
    }
   ],
   "source": [
    "test_sims = generate_hypo_tests(10,1,0,10000)\n",
    "print( len(test_sims.query('rejected > 0' ) )/len(test_sims)) \n",
    "print(  test_sims.query('rejected > 0')['est_effect'].mean() )"
   ]
  },
  {
   "cell_type": "code",
   "execution_count": 53,
   "metadata": {},
   "outputs": [
    {
     "name": "stdout",
     "output_type": "stream",
     "text": [
      "0.0599\n",
      "1.9462662993699893\n"
     ]
    }
   ],
   "source": [
    "test_sims = generate_hypo_tests(20,1,0,10000)\n",
    "print( len(test_sims.query('rejected > 0' ) )/len(test_sims)) \n",
    "print(  test_sims.query('rejected > 0')['est_effect'].mean() )"
   ]
  },
  {
   "cell_type": "code",
   "execution_count": 54,
   "metadata": {},
   "outputs": [
    {
     "name": "stdout",
     "output_type": "stream",
     "text": [
      "0.0552\n",
      "1.9866893412306619\n"
     ]
    }
   ],
   "source": [
    "test_sims = generate_hypo_tests(50,1,0,10000)\n",
    "print( len(test_sims.query('rejected > 0' ) )/len(test_sims)) \n",
    "print(  test_sims.query('rejected > 0')['est_effect'].mean() )"
   ]
  },
  {
   "cell_type": "code",
   "execution_count": 55,
   "metadata": {},
   "outputs": [
    {
     "name": "stdout",
     "output_type": "stream",
     "text": [
      "0.3058\n",
      "2.1454854720001326\n"
     ]
    }
   ],
   "source": [
    "test_sims = generate_hypo_tests(10,1,1,10000)\n",
    "print( len(test_sims.query('rejected > 0' ) )/len(test_sims)) \n",
    "print(  test_sims.query('rejected > 0')['est_effect'].mean() )"
   ]
  },
  {
   "cell_type": "code",
   "execution_count": 56,
   "metadata": {},
   "outputs": [
    {
     "name": "stdout",
     "output_type": "stream",
     "text": [
      "0.2843\n",
      "2.1956580301065913\n"
     ]
    }
   ],
   "source": [
    "test_sims = generate_hypo_tests(20,1,1,10000)\n",
    "print( len(test_sims.query('rejected > 0' ) )/len(test_sims)) \n",
    "print(  test_sims.query('rejected > 0')['est_effect'].mean() )"
   ]
  },
  {
   "cell_type": "code",
   "execution_count": 57,
   "metadata": {},
   "outputs": [
    {
     "name": "stdout",
     "output_type": "stream",
     "text": [
      "0.2713\n",
      "2.240085983690498\n"
     ]
    }
   ],
   "source": [
    "test_sims = generate_hypo_tests(50,1,1,10000)\n",
    "print( len(test_sims.query('rejected > 0' ) )/len(test_sims)) \n",
    "print(  test_sims.query('rejected > 0')['est_effect'].mean() )"
   ]
  },
  {
   "cell_type": "code",
   "execution_count": 58,
   "metadata": {},
   "outputs": [
    {
     "name": "stdout",
     "output_type": "stream",
     "text": [
      "0.6389\n",
      "2.5732612110834157\n"
     ]
    }
   ],
   "source": [
    "test_sims = generate_hypo_tests(10,1,2,10000)\n",
    "print( len(test_sims.query('rejected > 0' ) )/len(test_sims)) \n",
    "print(  test_sims.query('rejected > 0')['est_effect'].mean() )"
   ]
  },
  {
   "cell_type": "code",
   "execution_count": 59,
   "metadata": {},
   "outputs": [
    {
     "name": "stdout",
     "output_type": "stream",
     "text": [
      "0.6429\n",
      "2.5886306875209493\n"
     ]
    }
   ],
   "source": [
    "test_sims = generate_hypo_tests(20,1,2,10000)\n",
    "print( len(test_sims.query('rejected > 0' ) )/len(test_sims)) \n",
    "print(  test_sims.query('rejected > 0')['est_effect'].mean() )"
   ]
  },
  {
   "cell_type": "code",
   "execution_count": 60,
   "metadata": {},
   "outputs": [
    {
     "name": "stdout",
     "output_type": "stream",
     "text": [
      "0.6305\n",
      "2.5940359662246935\n"
     ]
    }
   ],
   "source": [
    "test_sims = generate_hypo_tests(50,1,2,10000)\n",
    "print( len(test_sims.query('rejected > 0' ) )/len(test_sims)) \n",
    "print(  test_sims.query('rejected > 0')['est_effect'].mean() )"
   ]
  },
  {
   "cell_type": "code",
   "execution_count": 61,
   "metadata": {},
   "outputs": [
    {
     "name": "stdout",
     "output_type": "stream",
     "text": [
      "0.06\n",
      "1.9256966379734721\n"
     ]
    }
   ],
   "source": [
    "test_sims = generate_hypo_tests(20,2,0,10000)\n",
    "print( len(test_sims.query('rejected > 0' ) )/len(test_sims)) \n",
    "print(  test_sims.query('rejected > 0')['est_effect'].mean() )"
   ]
  },
  {
   "cell_type": "code",
   "execution_count": 62,
   "metadata": {},
   "outputs": [
    {
     "name": "stdout",
     "output_type": "stream",
     "text": [
      "0.2767\n",
      "2.2029346234805613\n"
     ]
    }
   ],
   "source": [
    "test_sims = generate_hypo_tests(20,2,1,10000)\n",
    "print( len(test_sims.query('rejected > 0' ) )/len(test_sims)) \n",
    "print(  test_sims.query('rejected > 0')['est_effect'].mean() )"
   ]
  },
  {
   "cell_type": "code",
   "execution_count": 63,
   "metadata": {},
   "outputs": [
    {
     "name": "stdout",
     "output_type": "stream",
     "text": [
      "0.9882\n",
      "4.029938684362172\n"
     ]
    }
   ],
   "source": [
    "test_sims = generate_hypo_tests(20,2,4,10000)\n",
    "print( len(test_sims.query('rejected > 0' ) )/len(test_sims)) \n",
    "print(  test_sims.query('rejected > 0')['est_effect'].mean() )"
   ]
  },
  {
   "cell_type": "markdown",
   "metadata": {},
   "source": [
    "# Fix T=10 and mu =1 to plot (Effect Size, Average Payment)"
   ]
  },
  {
   "cell_type": "code",
   "execution_count": 143,
   "metadata": {},
   "outputs": [],
   "source": [
    "def hypo_test(values, effect_size):\n",
    "    r_bar = np.mean(values[0:-1] )\n",
    "    sd = np.std(values[0:-1])\n",
    "    effect_est = effect_size + values[-1] - r_bar\n",
    "\n",
    "    test_stat = np.sqrt((sample_size-1)/sample_size)*effect_est/sd\n",
    "    rejected = 1*(test_stat > 1.65)\n",
    "    \n",
    "    return rejected*effect_est"
   ]
  },
  {
   "cell_type": "code",
   "execution_count": 144,
   "metadata": {},
   "outputs": [],
   "source": [
    "plot_sim_df = pd.DataFrame(columns = ['effect'])\n",
    "plot_sim_df['effect'] = np.linspace(0,3,50)\n",
    "\n",
    "for sim in range(0,10000):\n",
    "    values = np.random.normal(1,1,10)\n",
    "    plot_sim_df[sim] =  plot_sim_df['effect'].apply(lambda s: hypo_test(values,s))\n",
    "\n",
    "plot_sim_df = plot_sim_df.set_index('effect')"
   ]
  },
  {
   "cell_type": "code",
   "execution_count": 145,
   "metadata": {},
   "outputs": [
    {
     "data": {
      "text/plain": [
       "3.201327938543777"
      ]
     },
     "execution_count": 145,
     "metadata": {},
     "output_type": "execute_result"
    }
   ],
   "source": [
    "# plot_sim_df = plot_sim_df.set_index(['effect'])\n",
    "\n",
    "row_sims = plot_sim_df.loc[3.0].copy()\n",
    "row_sims.sum()/ sum(1*(row_sims > 0))"
   ]
  },
  {
   "cell_type": "code",
   "execution_count": 146,
   "metadata": {},
   "outputs": [],
   "source": [
    "average_df = pd.DataFrame(columns = ['effect','avg_rejected']).set_index('effect')\n",
    "\n",
    "for effect in plot_sim_df.index:\n",
    "    row_sims = plot_sim_df.loc[effect].copy()\n",
    "    \n",
    "    average_df.loc[effect,'avg_rejected'] = row_sims.sum()/ sum(1*(row_sims > 0))\n",
    "    "
   ]
  },
  {
   "cell_type": "code",
   "execution_count": 147,
   "metadata": {},
   "outputs": [
    {
     "data": {
      "text/plain": [
       "<matplotlib.axes._subplots.AxesSubplot at 0x24cf6020d00>"
      ]
     },
     "execution_count": 147,
     "metadata": {},
     "output_type": "execute_result"
    },
    {
     "data": {
      "image/png": "[encoded data removed]",
      "text/plain": [
       "<Figure size 576x432 with 1 Axes>"
      ]
     },
     "metadata": {
      "needs_background": "light"
     },
     "output_type": "display_data"
    }
   ],
   "source": [
    "average_df = average_df.reset_index()\n",
    "fig, ax = plt.subplots(figsize = (8,6))\n",
    "\n",
    "average_df['true_effect'] = average_df['effect']\n",
    "average_df.plot(x='effect', y='avg_rejected', ax = ax, label = 'Average Est. Effect of Rejected Samples', color ='red')\n",
    "average_df.plot(x='effect',y='true_effect', ax = ax, label = 'True Effect', color = 'black')"
   ]
  },
  {
   "cell_type": "code",
   "execution_count": null,
   "metadata": {},
   "outputs": [],
   "source": []
  }
 ],
 "metadata": {
  "kernelspec": {
   "display_name": "Python 3",
   "language": "python",
   "name": "python3"
  },
  "language_info": {
   "codemirror_mode": {
    "name": "ipython",
    "version": 3
   },
   "file_extension": ".py",
   "mimetype": "text/x-python",
   "name": "python",
   "nbconvert_exporter": "python",
   "pygments_lexer": "ipython3",
   "version": "3.8.3"
  }
 },
 "nbformat": 4,
 "nbformat_minor": 4
}
